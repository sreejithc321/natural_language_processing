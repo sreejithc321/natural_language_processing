{
 "cells": [
  {
   "cell_type": "code",
   "execution_count": 104,
   "metadata": {},
   "outputs": [],
   "source": [
    "import spacy\n",
    "from textacy.spacier import utils as spacy_utils\n",
    "nlp = spacy.load('en')"
   ]
  },
  {
   "cell_type": "code",
   "execution_count": 105,
   "metadata": {},
   "outputs": [],
   "source": [
    "text = \"\"\"\n",
    "Puliyogare is a South Indian dish made of rice and tamarind. \n",
    "Priya writes poems. \n",
    "Shivangi bakes cakes. \n",
    "Sachin sings in the orchestra.\n",
    "Osmosis is the movement of a solvent across a semipermeable membrane toward a higher concentration of solute. \n",
    "Raja-Yoga is divided into eight steps. The first is Yama. Yama is nonviolence, truthfulness, continence, and non-receiving of any gifts.\n",
    "After Yama, Raja-Yoga has Niyama. cleanliness, contentment, austerity, study, and self - surrender to God.\n",
    "The steps are Yama and Niyama.\"\"\""
   ]
  },
  {
   "cell_type": "code",
   "execution_count": 106,
   "metadata": {},
   "outputs": [],
   "source": [
    "ruleset = [\n",
    "    {\n",
    "        'id': 1, \n",
    "        'req_tags': ['NNP', 'VBZ', 'NN'],\n",
    "    }, \n",
    "    {\n",
    "        'id': 2, \n",
    "        'req_tags': ['NNP', 'VBZ'],\n",
    "    }\n",
    "    ]\n"
   ]
  },
  {
   "cell_type": "code",
   "execution_count": 107,
   "metadata": {},
   "outputs": [],
   "source": [
    "def get_pos_tag(doc, tag):\n",
    "    return [tok for tok in doc if tok.tag_ == tag]"
   ]
  },
  {
   "cell_type": "code",
   "execution_count": 108,
   "metadata": {},
   "outputs": [],
   "source": [
    "def text_to_qa(text):\n",
    "    try:\n",
    "        doc = nlp(text)\n",
    "        results = []\n",
    "        for sentence in doc.sents:\n",
    "            root = sentence.root\n",
    "            subjct = spacy_utils.get_subjects_of_verb(root)\n",
    "            objct = spacy_utils.get_objects_of_verb(root)\n",
    "            if len(subjct) > 0 and len(objct) > 0:\n",
    "                if root.lemma_ == \"be\":\n",
    "                    question = f'What {root} {subjct[0]}?'\n",
    "                else:\n",
    "                    question = f'What does {subjct[0]} {root.lemma_}?'\n",
    "                results.append({'question':question, 'answers':objct})\n",
    "        return results    \n",
    "    except Exception as error:\n",
    "        print(error)\n",
    "        return results\n",
    "        "
   ]
  },
  {
   "cell_type": "code",
   "execution_count": 109,
   "metadata": {},
   "outputs": [
    {
     "name": "stdout",
     "output_type": "stream",
     "text": [
      "Sentence is:  \n",
      "Puliyogare is a South Indian dish made of rice and tamarind. \n",
      "\n",
      "Question is:  What is Puliyogare?\n",
      "--------------------------------------------------\n",
      "Sentence is:  Yama is nonviolence, truthfulness, continence, and non-receiving of any gifts.\n",
      "\n",
      "Question is:  What is Yama?\n",
      "--------------------------------------------------\n"
     ]
    }
   ],
   "source": [
    "doc = nlp(text)\n",
    "for sent in doc.sents:\n",
    "    qn = sent_to_ques(str(sent))\n",
    "    if qn is not None:\n",
    "        print(f\"Sentence is: \", sent)\n",
    "        print(f\"Question is: \", qn)\n",
    "        print('-'*50)"
   ]
  },
  {
   "cell_type": "code",
   "execution_count": 110,
   "metadata": {},
   "outputs": [
    {
     "data": {
      "text/plain": [
       "[{'question': 'What is Puliyogare?', 'answers': [dish]},\n",
       " {'question': 'What does Priya write?', 'answers': [poems]},\n",
       " {'question': 'What does Shivangi bake?', 'answers': [cakes]},\n",
       " {'question': 'What is Osmosis?', 'answers': [movement]},\n",
       " {'question': 'What is first?', 'answers': [Yama]},\n",
       " {'question': 'What is Yama?',\n",
       "  'answers': [nonviolence, truthfulness, continence]},\n",
       " {'question': 'What does Yoga have?', 'answers': [Niyama]},\n",
       " {'question': 'What are steps?', 'answers': [Yama, Niyama]}]"
      ]
     },
     "execution_count": 110,
     "metadata": {},
     "output_type": "execute_result"
    }
   ],
   "source": [
    "text_to_qa(text)"
   ]
  },
  {
   "cell_type": "code",
   "execution_count": null,
   "metadata": {},
   "outputs": [],
   "source": []
  }
 ],
 "metadata": {
  "kernelspec": {
   "display_name": "Python 3",
   "language": "python",
   "name": "python3"
  },
  "language_info": {
   "codemirror_mode": {
    "name": "ipython",
    "version": 3
   },
   "file_extension": ".py",
   "mimetype": "text/x-python",
   "name": "python",
   "nbconvert_exporter": "python",
   "pygments_lexer": "ipython3",
   "version": "3.6.7"
  }
 },
 "nbformat": 4,
 "nbformat_minor": 2
}
