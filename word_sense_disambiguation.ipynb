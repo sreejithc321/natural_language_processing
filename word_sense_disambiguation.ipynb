{
 "cells": [
  {
   "cell_type": "code",
   "execution_count": 3,
   "metadata": {
    "collapsed": false
   },
   "outputs": [
    {
     "name": "stdout",
     "output_type": "stream",
     "text": [
      "\n",
      "I went to the bank yesterday and I had to wait an hour in line to deposit my weekly paycheck into my checking account.  :  Synset('depository_financial_institution.n.01')\n",
      "\n",
      "I sat on the bank of the river and watched the currents  :  Synset('depository_financial_institution.n.01')\n"
     ]
    }
   ],
   "source": [
    "from nltk.wsd import lesk\n",
    "\n",
    "sent = \"I went to the bank yesterday and I had to wait an hour in line to deposit my weekly paycheck into my checking account.\"\n",
    "print '\\n', sent,' : ', lesk(sent.split(), 'bank')\n",
    "sent = \"I sat on the bank of the river and watched the currents\"\n",
    "print '\\n', sent,' : ', lesk(sent.split(), 'bank')"
   ]
  },
  {
   "cell_type": "code",
   "execution_count": 8,
   "metadata": {
    "collapsed": false
   },
   "outputs": [
    {
     "name": "stdout",
     "output_type": "stream",
     "text": [
      "Context: I went to the bank to deposit my money\n",
      "['I', 'went', 'to', 'the', 'bank', 'to', 'deposit', 'my', 'money']\n",
      "Sense: Synset('depository_financial_institution.n.01')\n",
      "Definition: a financial institution that accepts deposits and channels the money into lending activities\n",
      "\n",
      "Context: The river bank was full of dead fishes\n",
      "['The', 'river', 'bank', 'was', 'full', 'of', 'dead', 'fishes']\n",
      "Sense: Synset('bank.n.01')\n",
      "Definition: sloping land (especially the slope beside a body of water)\n",
      "\n",
      "Context: The workers at the industrial plant were overworked\n",
      "['The', 'workers', 'at', 'the', 'industrial', 'plant', 'were', 'overworked']\n",
      "Sense: Synset('plant.n.01')\n",
      "Definition: buildings for carrying on industrial labor\n",
      "\n"
     ]
    }
   ],
   "source": [
    "from nltk.corpus import wordnet as wn\n",
    "from nltk.stem import PorterStemmer\n",
    "from itertools import chain\n",
    "\n",
    "stemmer = PorterStemmer()\n",
    "\n",
    "def lesk(context_sentence, ambiguous_word, pos=None, stem=True, hyperhypo=True):\n",
    "    max_overlaps = 0; lesk_sense = None\n",
    "    context_sentence = context_sentence.split()\n",
    "    print context_sentence\n",
    "    \n",
    "    for synset in wn.synsets(ambiguous_word):\n",
    "\n",
    "        lesk_dictionary = []\n",
    "        lesk_dictionary+= synset.definition().split()\n",
    "        lesk_dictionary+= synset.lemma_names()\n",
    "        \n",
    "        if hyperhypo == True:\n",
    "            lesk_dictionary+= list(chain(*[i.lemma_names() for i in synset.hypernyms()+synset.hyponyms()]))       \n",
    "\n",
    "        if stem == True: \n",
    "            lesk_dictionary = [stemmer.stem(i) for i in lesk_dictionary]\n",
    "            context_sentence = [stemmer.stem(i) for i in context_sentence] \n",
    "\n",
    "        overlaps = set(lesk_dictionary).intersection(context_sentence)\n",
    "        \n",
    "        if len(overlaps) > max_overlaps:\n",
    "            lesk_sense = synset\n",
    "            max_overlaps = len(overlaps)\n",
    "            \n",
    "    return lesk_sense\n",
    "\n",
    "bank_sents = ['I went to the bank to deposit my money',\n",
    "'The river bank was full of dead fishes']\n",
    "\n",
    "plant_sents = ['The workers at the industrial plant were overworked',\n",
    "'The plant was no longer bearing flowers']\n",
    "\n",
    "print \"Context:\", bank_sents[0]\n",
    "answer = lesk(bank_sents[0],'bank')\n",
    "print \"Sense:\", answer\n",
    "print \"Definition:\",answer.definition()\n",
    "print\n",
    "\n",
    "print \"Context:\", bank_sents[1]\n",
    "answer = lesk(bank_sents[1],'bank','n')\n",
    "print \"Sense:\", answer\n",
    "print \"Definition:\",answer.definition()\n",
    "print\n",
    "\n",
    "print \"Context:\", plant_sents[0]\n",
    "answer = lesk(plant_sents[0],'plant','n', True)\n",
    "print \"Sense:\", answer\n",
    "print \"Definition:\",answer.definition()\n",
    "print"
   ]
  },
  {
   "cell_type": "code",
   "execution_count": null,
   "metadata": {
    "collapsed": false
   },
   "outputs": [],
   "source": []
  }
 ],
 "metadata": {
  "kernelspec": {
   "display_name": "Python 2",
   "language": "python",
   "name": "python2"
  },
  "language_info": {
   "codemirror_mode": {
    "name": "ipython",
    "version": 2
   },
   "file_extension": ".py",
   "mimetype": "text/x-python",
   "name": "python",
   "nbconvert_exporter": "python",
   "pygments_lexer": "ipython2",
   "version": "2.7.6"
  }
 },
 "nbformat": 4,
 "nbformat_minor": 0
}
